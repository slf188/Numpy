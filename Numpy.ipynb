{
  "nbformat": 4,
  "nbformat_minor": 0,
  "metadata": {
    "colab": {
      "name": "Numpy.ipynb",
      "provenance": [],
      "collapsed_sections": [
        "DKK0xnrzgK-b",
        "hIQHsBk25v14",
        "jge_ELQT51WH",
        "pBUHI1olAwhR"
      ]
    },
    "kernelspec": {
      "name": "python3",
      "display_name": "Python 3"
    }
  },
  "cells": [
    {
      "cell_type": "markdown",
      "metadata": {
        "id": "Wkd8tCMh-8bs"
      },
      "source": [
        "# Numpy"
      ]
    },
    {
      "cell_type": "markdown",
      "metadata": {
        "id": "Z0AjQo3Ved57"
      },
      "source": [
        "## What is Numpy?\n",
        "\n",
        "Open source numerical library used for working with mathematical functions with multi-dimensional array and matrix data structures."
      ]
    },
    {
      "cell_type": "markdown",
      "metadata": {
        "id": "j9LoCziPe0bq"
      },
      "source": [
        "## Why use Numpy?\n",
        "\n",
        "Numpy arrays use less memory than normal python lists."
      ]
    },
    {
      "cell_type": "markdown",
      "metadata": {
        "id": "DKK0xnrzgK-b"
      },
      "source": [
        "## Import Numpy\n",
        "\n",
        "To import numpy do the following:"
      ]
    },
    {
      "cell_type": "code",
      "metadata": {
        "id": "fw2rbwf9gKiL"
      },
      "source": [
        "import numpy as np"
      ],
      "execution_count": null,
      "outputs": []
    },
    {
      "cell_type": "markdown",
      "metadata": {
        "id": "hIQHsBk25v14"
      },
      "source": [
        "# Numpy Arrays\n",
        "\n",
        "\n",
        "*   Converting existing objects to arrays\n",
        "*   Using numpy functions to generate arrays\n",
        "*   Creating arrays and matrices of random values\n",
        "*   Basic array attributes\n",
        "\n",
        "\n",
        "\n"
      ]
    },
    {
      "cell_type": "markdown",
      "metadata": {
        "id": "F3aJiKYlgrgO"
      },
      "source": [
        "## np.array()\n",
        "Generate a numpy array:"
      ]
    },
    {
      "cell_type": "code",
      "metadata": {
        "colab": {
          "base_uri": "https://localhost:8080/"
        },
        "id": "MZIKovTBhPKw",
        "outputId": "59482533-484b-4d52-b64d-6afb7fc79977"
      },
      "source": [
        "nested_list = [[1, 2], [3, 4], [5, 6]]\n",
        "nested_list"
      ],
      "execution_count": null,
      "outputs": [
        {
          "output_type": "execute_result",
          "data": {
            "text/plain": [
              "[[1, 2], [3, 4], [5, 6]]"
            ]
          },
          "metadata": {
            "tags": []
          },
          "execution_count": 10
        }
      ]
    },
    {
      "cell_type": "code",
      "metadata": {
        "colab": {
          "base_uri": "https://localhost:8080/"
        },
        "id": "rhePw9-_hYNr",
        "outputId": "c327df6d-8e15-4055-c8ea-e1c7c6389d0c"
      },
      "source": [
        "np.array(nested_list)"
      ],
      "execution_count": null,
      "outputs": [
        {
          "output_type": "execute_result",
          "data": {
            "text/plain": [
              "array([[1, 2],\n",
              "       [3, 4],\n",
              "       [5, 6]])"
            ]
          },
          "metadata": {
            "tags": []
          },
          "execution_count": 11
        }
      ]
    },
    {
      "cell_type": "markdown",
      "metadata": {
        "id": "LFVCbxp6h4R1"
      },
      "source": [
        "## np.arange(initial value, final value, step size)\n",
        "\n",
        "Generate an array with predetermined set of numbers:\n"
      ]
    },
    {
      "cell_type": "code",
      "metadata": {
        "colab": {
          "base_uri": "https://localhost:8080/"
        },
        "id": "lrL7SvIhiIB8",
        "outputId": "80e7d02a-83f8-4ab3-e0b3-05543f8abab2"
      },
      "source": [
        "np.arange(0, 10, 2)"
      ],
      "execution_count": null,
      "outputs": [
        {
          "output_type": "execute_result",
          "data": {
            "text/plain": [
              "array([0, 2, 4, 6, 8])"
            ]
          },
          "metadata": {
            "tags": []
          },
          "execution_count": 15
        }
      ]
    },
    {
      "cell_type": "markdown",
      "metadata": {
        "id": "5Wh1JxM4i154"
      },
      "source": [
        "## np.zeros(x, y) and np.ones(x, y)\n",
        "Generate a numpy array of 0's and 1's:"
      ]
    },
    {
      "cell_type": "code",
      "metadata": {
        "colab": {
          "base_uri": "https://localhost:8080/"
        },
        "id": "p8voRRZNi-tC",
        "outputId": "aa471f86-bf86-4532-e8d0-976d023c88d5"
      },
      "source": [
        "np.ones((5, 5))"
      ],
      "execution_count": null,
      "outputs": [
        {
          "output_type": "execute_result",
          "data": {
            "text/plain": [
              "array([[1., 1., 1., 1., 1.],\n",
              "       [1., 1., 1., 1., 1.],\n",
              "       [1., 1., 1., 1., 1.],\n",
              "       [1., 1., 1., 1., 1.],\n",
              "       [1., 1., 1., 1., 1.]])"
            ]
          },
          "metadata": {
            "tags": []
          },
          "execution_count": 16
        }
      ]
    },
    {
      "cell_type": "markdown",
      "metadata": {
        "id": "Nh6PCasKlPIK"
      },
      "source": [
        "## np.linspace()\n",
        "\n",
        "np.linspace(initial value, final value, number of elements wanted evenly spaced)"
      ]
    },
    {
      "cell_type": "code",
      "metadata": {
        "colab": {
          "base_uri": "https://localhost:8080/"
        },
        "id": "ccj7G8cDleFU",
        "outputId": "1dbca2e4-3f2a-4338-88db-aeaa4fbb5110"
      },
      "source": [
        "np.linspace(0, 12, 4)"
      ],
      "execution_count": null,
      "outputs": [
        {
          "output_type": "execute_result",
          "data": {
            "text/plain": [
              "array([ 0.,  4.,  8., 12.])"
            ]
          },
          "metadata": {
            "tags": []
          },
          "execution_count": 20
        }
      ]
    },
    {
      "cell_type": "markdown",
      "metadata": {
        "id": "YZva_y74mCoE"
      },
      "source": [
        "## np.eye(array shape)\n",
        "Generate a numpy array with a 1 on the diagonal:"
      ]
    },
    {
      "cell_type": "code",
      "metadata": {
        "colab": {
          "base_uri": "https://localhost:8080/"
        },
        "id": "PLDZga-0mR4F",
        "outputId": "7704cdee-0ef7-46fc-ff14-4986c1dc2092"
      },
      "source": [
        "np.eye(4)"
      ],
      "execution_count": null,
      "outputs": [
        {
          "output_type": "execute_result",
          "data": {
            "text/plain": [
              "array([[1., 0., 0., 0.],\n",
              "       [0., 1., 0., 0.],\n",
              "       [0., 0., 1., 0.],\n",
              "       [0., 0., 0., 1.]])"
            ]
          },
          "metadata": {
            "tags": []
          },
          "execution_count": 24
        }
      ]
    },
    {
      "cell_type": "markdown",
      "metadata": {
        "id": "4XNDhPjgmu25"
      },
      "source": [
        "## np.random.rand(# of elements)\n",
        "Generate a numpy array with random numbers from 0 to 1:\n"
      ]
    },
    {
      "cell_type": "code",
      "metadata": {
        "colab": {
          "base_uri": "https://localhost:8080/"
        },
        "id": "LYzOuOOpnAn1",
        "outputId": "27b1bf07-c604-4502-b480-d8c938294993"
      },
      "source": [
        "np.random.rand(3)"
      ],
      "execution_count": null,
      "outputs": [
        {
          "output_type": "execute_result",
          "data": {
            "text/plain": [
              "array([0.4283336 , 0.90524654, 0.65139079])"
            ]
          },
          "metadata": {
            "tags": []
          },
          "execution_count": 26
        }
      ]
    },
    {
      "cell_type": "markdown",
      "metadata": {
        "id": "R07rZF6YnGvA"
      },
      "source": [
        "## np.random.rand(x, y)\n",
        "To create a matrix with random numbers ranging from 0 to 1:"
      ]
    },
    {
      "cell_type": "code",
      "metadata": {
        "colab": {
          "base_uri": "https://localhost:8080/"
        },
        "id": "B1_nIbRgnk-2",
        "outputId": "f54bf7df-34c2-48aa-cae5-8241ed28514b"
      },
      "source": [
        "np.random.rand(3, 3)"
      ],
      "execution_count": null,
      "outputs": [
        {
          "output_type": "execute_result",
          "data": {
            "text/plain": [
              "array([[0.77999875, 0.97135081, 0.9153352 ],\n",
              "       [0.17751134, 0.46694534, 0.12059376],\n",
              "       [0.60036447, 0.36125856, 0.3911036 ]])"
            ]
          },
          "metadata": {
            "tags": []
          },
          "execution_count": 27
        }
      ]
    },
    {
      "cell_type": "markdown",
      "metadata": {
        "id": "nPbflZYBn4nE"
      },
      "source": [
        "## np.random.randn(x, y)\n",
        "To create a matrix of random negative & positive numbers:"
      ]
    },
    {
      "cell_type": "code",
      "metadata": {
        "colab": {
          "base_uri": "https://localhost:8080/"
        },
        "id": "da77NVqNoMnN",
        "outputId": "8bc31bbd-9c28-4c5d-d0c0-ef1222e73d73"
      },
      "source": [
        "np.random.randn(2, 2)"
      ],
      "execution_count": null,
      "outputs": [
        {
          "output_type": "execute_result",
          "data": {
            "text/plain": [
              "array([[ 1.00798778, -0.98731183],\n",
              "       [ 0.04809523,  1.19919465]])"
            ]
          },
          "metadata": {
            "tags": []
          },
          "execution_count": 29
        }
      ]
    },
    {
      "cell_type": "markdown",
      "metadata": {
        "id": "vI_HrNHDpDtB"
      },
      "source": [
        "## np.random.randint(initial value, final value, # of guesses or array shape)\n",
        "To generate random numbers:\n"
      ]
    },
    {
      "cell_type": "code",
      "metadata": {
        "colab": {
          "base_uri": "https://localhost:8080/"
        },
        "id": "cZ3G2tr5pIL9",
        "outputId": "360751a1-5664-4ef5-b8ea-f4d6177a0f97"
      },
      "source": [
        "np.random.randint(0, 19, (4, 4))"
      ],
      "execution_count": null,
      "outputs": [
        {
          "output_type": "execute_result",
          "data": {
            "text/plain": [
              "array([[11, 12,  1,  9],\n",
              "       [16,  2, 17, 18],\n",
              "       [ 5,  7,  8, 14],\n",
              "       [ 7,  1,  1, 18]])"
            ]
          },
          "metadata": {
            "tags": []
          },
          "execution_count": 34
        }
      ]
    },
    {
      "cell_type": "markdown",
      "metadata": {
        "id": "QugKpSY2p9hY"
      },
      "source": [
        "## np.random.seed(number)\n",
        "To generate the same random number everytime the cell is run:\n",
        "\n"
      ]
    },
    {
      "cell_type": "code",
      "metadata": {
        "colab": {
          "base_uri": "https://localhost:8080/"
        },
        "id": "qvnJO_6MqW4t",
        "outputId": "598b000a-cc80-4a78-d5d6-cd3de57faed1"
      },
      "source": [
        "np.random.seed(42)\n",
        "np.random.rand(4)"
      ],
      "execution_count": null,
      "outputs": [
        {
          "output_type": "execute_result",
          "data": {
            "text/plain": [
              "array([0.37454012, 0.95071431, 0.73199394, 0.59865848])"
            ]
          },
          "metadata": {
            "tags": []
          },
          "execution_count": 35
        }
      ]
    },
    {
      "cell_type": "markdown",
      "metadata": {
        "id": "gpJzxB2ZrC5h"
      },
      "source": [
        "## np.reshape(x, y)\n",
        "To reshape and reasign existing array:"
      ]
    },
    {
      "cell_type": "code",
      "metadata": {
        "colab": {
          "base_uri": "https://localhost:8080/"
        },
        "id": "fv-ep1-2rHt-",
        "outputId": "85c89e43-8d6a-4711-d5f4-f8c888cf805c"
      },
      "source": [
        "arr = np.arange(25)\n",
        "arr"
      ],
      "execution_count": null,
      "outputs": [
        {
          "output_type": "execute_result",
          "data": {
            "text/plain": [
              "array([ 0,  1,  2,  3,  4,  5,  6,  7,  8,  9, 10, 11, 12, 13, 14, 15, 16,\n",
              "       17, 18, 19, 20, 21, 22, 23, 24])"
            ]
          },
          "metadata": {
            "tags": []
          },
          "execution_count": 62
        }
      ]
    },
    {
      "cell_type": "code",
      "metadata": {
        "colab": {
          "base_uri": "https://localhost:8080/"
        },
        "id": "jnNdsTderQ0N",
        "outputId": "ac93f31b-e080-4d8a-ad60-fbd185b79751"
      },
      "source": [
        "arr.shape"
      ],
      "execution_count": null,
      "outputs": [
        {
          "output_type": "execute_result",
          "data": {
            "text/plain": [
              "(25,)"
            ]
          },
          "metadata": {
            "tags": []
          },
          "execution_count": 63
        }
      ]
    },
    {
      "cell_type": "code",
      "metadata": {
        "colab": {
          "base_uri": "https://localhost:8080/"
        },
        "id": "41Nl21G_rYzN",
        "outputId": "066d6e99-1449-42d1-f75c-df6f0678f9d7"
      },
      "source": [
        "arr = arr.reshape(5, 5)\n",
        "arr"
      ],
      "execution_count": null,
      "outputs": [
        {
          "output_type": "execute_result",
          "data": {
            "text/plain": [
              "array([[ 0,  1,  2,  3,  4],\n",
              "       [ 5,  6,  7,  8,  9],\n",
              "       [10, 11, 12, 13, 14],\n",
              "       [15, 16, 17, 18, 19],\n",
              "       [20, 21, 22, 23, 24]])"
            ]
          },
          "metadata": {
            "tags": []
          },
          "execution_count": 64
        }
      ]
    },
    {
      "cell_type": "code",
      "metadata": {
        "colab": {
          "base_uri": "https://localhost:8080/"
        },
        "id": "vg84j8SG48UV",
        "outputId": "aff5c88c-f7d0-47c2-c6cf-389a13456808"
      },
      "source": [
        "arr.shape"
      ],
      "execution_count": null,
      "outputs": [
        {
          "output_type": "execute_result",
          "data": {
            "text/plain": [
              "(5, 5)"
            ]
          },
          "metadata": {
            "tags": []
          },
          "execution_count": 65
        }
      ]
    },
    {
      "cell_type": "markdown",
      "metadata": {
        "id": "s6YsIApXsL0C"
      },
      "source": [
        "## .max() and .min()\n",
        "To get the max & min value of an array:"
      ]
    },
    {
      "cell_type": "code",
      "metadata": {
        "colab": {
          "base_uri": "https://localhost:8080/"
        },
        "id": "yU6pkIQrsRtu",
        "outputId": "f0fc802d-6c25-481b-fcb5-0ef8238a5ce5"
      },
      "source": [
        "ranarr = np.random.randint(0, 30, 15) \n",
        "ranarr"
      ],
      "execution_count": null,
      "outputs": [
        {
          "output_type": "execute_result",
          "data": {
            "text/plain": [
              "array([23, 11, 29,  5,  1, 27, 20,  0, 11, 25, 21, 28, 11, 24, 16])"
            ]
          },
          "metadata": {
            "tags": []
          },
          "execution_count": 55
        }
      ]
    },
    {
      "cell_type": "code",
      "metadata": {
        "colab": {
          "base_uri": "https://localhost:8080/"
        },
        "id": "ARots53P4Wgd",
        "outputId": "f91e93fb-a84d-40ed-f375-797ce8bb44c9"
      },
      "source": [
        "ranarr.max()"
      ],
      "execution_count": null,
      "outputs": [
        {
          "output_type": "execute_result",
          "data": {
            "text/plain": [
              "29"
            ]
          },
          "metadata": {
            "tags": []
          },
          "execution_count": 57
        }
      ]
    },
    {
      "cell_type": "code",
      "metadata": {
        "colab": {
          "base_uri": "https://localhost:8080/"
        },
        "id": "o6Dxpwil4Z5s",
        "outputId": "f3b79d57-ac5b-49ab-8483-ac8024f21d6e"
      },
      "source": [
        "ranarr.min()"
      ],
      "execution_count": null,
      "outputs": [
        {
          "output_type": "execute_result",
          "data": {
            "text/plain": [
              "0"
            ]
          },
          "metadata": {
            "tags": []
          },
          "execution_count": 58
        }
      ]
    },
    {
      "cell_type": "markdown",
      "metadata": {
        "id": "2Lp6U8GPsm17"
      },
      "source": [
        "## .argmax() and .argmin()\n",
        "To get the position of the element of an array:"
      ]
    },
    {
      "cell_type": "code",
      "metadata": {
        "colab": {
          "base_uri": "https://localhost:8080/"
        },
        "id": "0m1Z5avXsn03",
        "outputId": "be991b49-7836-4934-f48a-49b0286d6ff9"
      },
      "source": [
        "ranarr.argmax()"
      ],
      "execution_count": null,
      "outputs": [
        {
          "output_type": "execute_result",
          "data": {
            "text/plain": [
              "2"
            ]
          },
          "metadata": {
            "tags": []
          },
          "execution_count": 59
        }
      ]
    },
    {
      "cell_type": "code",
      "metadata": {
        "colab": {
          "base_uri": "https://localhost:8080/"
        },
        "id": "COdNApMhspp_",
        "outputId": "c8a68ecf-99b2-4aaf-b149-9e74976bf182"
      },
      "source": [
        "ranarr.argmin()"
      ],
      "execution_count": null,
      "outputs": [
        {
          "output_type": "execute_result",
          "data": {
            "text/plain": [
              "7"
            ]
          },
          "metadata": {
            "tags": []
          },
          "execution_count": 60
        }
      ]
    },
    {
      "cell_type": "markdown",
      "metadata": {
        "id": "lS0iLPZ2sx23"
      },
      "source": [
        "## .dtype\n",
        "To grab the data type of an array:"
      ]
    },
    {
      "cell_type": "code",
      "metadata": {
        "colab": {
          "base_uri": "https://localhost:8080/"
        },
        "id": "OemeCrlPs1KO",
        "outputId": "a6e4efd2-82d3-4198-fa68-7b317de6aa1e"
      },
      "source": [
        "ranarr.dtype"
      ],
      "execution_count": null,
      "outputs": [
        {
          "output_type": "execute_result",
          "data": {
            "text/plain": [
              "dtype('int64')"
            ]
          },
          "metadata": {
            "tags": []
          },
          "execution_count": 61
        }
      ]
    },
    {
      "cell_type": "markdown",
      "metadata": {
        "id": "jge_ELQT51WH"
      },
      "source": [
        "# Numpy Index Selection\n",
        "\n",
        "\n",
        "*   Grabbing single element\n",
        "*   Grabbing a slice of elements\n",
        "*   Broadcasting selections\n",
        "*   Indexing and selection in 2-dimensions\n",
        "*   Conditional Selection\n",
        "\n"
      ]
    },
    {
      "cell_type": "markdown",
      "metadata": {
        "id": "SJ958tre7YS9"
      },
      "source": [
        "## Single Element [#]\n",
        "To grab a single element:"
      ]
    },
    {
      "cell_type": "code",
      "metadata": {
        "colab": {
          "base_uri": "https://localhost:8080/"
        },
        "id": "A6qkfLQJ7fYE",
        "outputId": "d7854414-0cdc-49c5-dfbb-318258794238"
      },
      "source": [
        "arr = np.arange(0, 11)\n",
        "arr"
      ],
      "execution_count": null,
      "outputs": [
        {
          "output_type": "execute_result",
          "data": {
            "text/plain": [
              "array([ 0,  1,  2,  3,  4,  5,  6,  7,  8,  9, 10])"
            ]
          },
          "metadata": {
            "tags": []
          },
          "execution_count": 66
        }
      ]
    },
    {
      "cell_type": "code",
      "metadata": {
        "colab": {
          "base_uri": "https://localhost:8080/"
        },
        "id": "y5JpMcSx7nDk",
        "outputId": "3ddeea10-e4e2-4e8b-a072-f88b947bff43"
      },
      "source": [
        "arr[3]"
      ],
      "execution_count": null,
      "outputs": [
        {
          "output_type": "execute_result",
          "data": {
            "text/plain": [
              "3"
            ]
          },
          "metadata": {
            "tags": []
          },
          "execution_count": 67
        }
      ]
    },
    {
      "cell_type": "markdown",
      "metadata": {
        "id": "hLWVhAt17wBU"
      },
      "source": [
        "## Slice of elements [# : #]\n",
        "To grab a slice of elements:"
      ]
    },
    {
      "cell_type": "code",
      "metadata": {
        "colab": {
          "base_uri": "https://localhost:8080/"
        },
        "id": "oHnN9LWM704C",
        "outputId": "37402759-a11d-4e37-db84-1bfee8b59283"
      },
      "source": [
        "arr[2: 6]"
      ],
      "execution_count": null,
      "outputs": [
        {
          "output_type": "execute_result",
          "data": {
            "text/plain": [
              "array([2, 3, 4, 5])"
            ]
          },
          "metadata": {
            "tags": []
          },
          "execution_count": 68
        }
      ]
    },
    {
      "cell_type": "code",
      "metadata": {
        "colab": {
          "base_uri": "https://localhost:8080/"
        },
        "id": "spw0q-vk76F7",
        "outputId": "a592af10-a651-4bb6-9381-5e3b54a8eff6"
      },
      "source": [
        "arr[:7]"
      ],
      "execution_count": null,
      "outputs": [
        {
          "output_type": "execute_result",
          "data": {
            "text/plain": [
              "array([0, 1, 2, 3, 4, 5, 6])"
            ]
          },
          "metadata": {
            "tags": []
          },
          "execution_count": 69
        }
      ]
    },
    {
      "cell_type": "code",
      "metadata": {
        "colab": {
          "base_uri": "https://localhost:8080/"
        },
        "id": "80GBZ2Jn8Ccc",
        "outputId": "81510689-6ced-4e1f-9e7b-7765437d66a9"
      },
      "source": [
        "arr[7:]"
      ],
      "execution_count": null,
      "outputs": [
        {
          "output_type": "execute_result",
          "data": {
            "text/plain": [
              "array([ 7,  8,  9, 10])"
            ]
          },
          "metadata": {
            "tags": []
          },
          "execution_count": 70
        }
      ]
    },
    {
      "cell_type": "markdown",
      "metadata": {
        "id": "-DDetc-_8SyP"
      },
      "source": [
        "## Broadcasting [# : #] = new value\n",
        "With this feature we can assign new values of an existing array:"
      ]
    },
    {
      "cell_type": "code",
      "metadata": {
        "colab": {
          "base_uri": "https://localhost:8080/"
        },
        "id": "_F3J7TXh8mj7",
        "outputId": "0bb0fd22-e165-4ebc-f89e-f98e205b5f38"
      },
      "source": [
        "arr[0:4] = 100\n",
        "arr"
      ],
      "execution_count": null,
      "outputs": [
        {
          "output_type": "execute_result",
          "data": {
            "text/plain": [
              "array([100, 100, 100, 100,   4,   5,   6,   7,   8,   9,  10])"
            ]
          },
          "metadata": {
            "tags": []
          },
          "execution_count": 73
        }
      ]
    },
    {
      "cell_type": "markdown",
      "metadata": {
        "id": "wvpMM4F8-Ax0"
      },
      "source": [
        "## Indexing a 2D Array"
      ]
    },
    {
      "cell_type": "code",
      "metadata": {
        "colab": {
          "base_uri": "https://localhost:8080/"
        },
        "id": "HitIAmP8-DIK",
        "outputId": "e440d9e4-7d3f-4f93-e121-07f9f6a18bd5"
      },
      "source": [
        "arr_2d = np.array([[5, 10, 15], [20, 25, 30], [35, 40, 45]])\n",
        "arr_2d"
      ],
      "execution_count": null,
      "outputs": [
        {
          "output_type": "execute_result",
          "data": {
            "text/plain": [
              "array([[ 5, 10, 15],\n",
              "       [20, 25, 30],\n",
              "       [35, 40, 45]])"
            ]
          },
          "metadata": {
            "tags": []
          },
          "execution_count": 74
        }
      ]
    },
    {
      "cell_type": "code",
      "metadata": {
        "colab": {
          "base_uri": "https://localhost:8080/"
        },
        "id": "XNRKPWoV-eIW",
        "outputId": "384b8331-7219-4c7e-847d-af046fb0922b"
      },
      "source": [
        "arr_2d[2]"
      ],
      "execution_count": null,
      "outputs": [
        {
          "output_type": "execute_result",
          "data": {
            "text/plain": [
              "array([35, 40, 45])"
            ]
          },
          "metadata": {
            "tags": []
          },
          "execution_count": 75
        }
      ]
    },
    {
      "cell_type": "code",
      "metadata": {
        "colab": {
          "base_uri": "https://localhost:8080/"
        },
        "id": "6yvCOU6F-x5j",
        "outputId": "1ad25d32-6853-4063-a2b6-f3a2783ab05d"
      },
      "source": [
        "arr_2d[2, 1]"
      ],
      "execution_count": null,
      "outputs": [
        {
          "output_type": "execute_result",
          "data": {
            "text/plain": [
              "40"
            ]
          },
          "metadata": {
            "tags": []
          },
          "execution_count": 77
        }
      ]
    },
    {
      "cell_type": "code",
      "metadata": {
        "colab": {
          "base_uri": "https://localhost:8080/"
        },
        "id": "pmQ-WwLl-447",
        "outputId": "9e4b73ac-fb86-4695-8b4f-3b5fe8805aad"
      },
      "source": [
        "arr_2d[:2, 1:]"
      ],
      "execution_count": null,
      "outputs": [
        {
          "output_type": "execute_result",
          "data": {
            "text/plain": [
              "array([[10, 15],\n",
              "       [25, 30]])"
            ]
          },
          "metadata": {
            "tags": []
          },
          "execution_count": 78
        }
      ]
    },
    {
      "cell_type": "markdown",
      "metadata": {
        "id": "2cUlN0dd_ncR"
      },
      "source": [
        "## Conditional Selection\n",
        "With this feature we can set conditions to return a numpy array of boolean values and filter an array"
      ]
    },
    {
      "cell_type": "code",
      "metadata": {
        "colab": {
          "base_uri": "https://localhost:8080/"
        },
        "id": "jX6ekJPV_qwD",
        "outputId": "87de96b1-a58c-450a-811e-482512a98ec4"
      },
      "source": [
        "arr = np.arange(0, 11)\n",
        "arr"
      ],
      "execution_count": null,
      "outputs": [
        {
          "output_type": "execute_result",
          "data": {
            "text/plain": [
              "array([ 0,  1,  2,  3,  4,  5,  6,  7,  8,  9, 10])"
            ]
          },
          "metadata": {
            "tags": []
          },
          "execution_count": 79
        }
      ]
    },
    {
      "cell_type": "code",
      "metadata": {
        "colab": {
          "base_uri": "https://localhost:8080/"
        },
        "id": "p05H8XLLABVV",
        "outputId": "84ef4f95-a447-4413-b962-c48fa4bc44f5"
      },
      "source": [
        "bool_arr = arr > 5\n",
        "bool_arr"
      ],
      "execution_count": null,
      "outputs": [
        {
          "output_type": "execute_result",
          "data": {
            "text/plain": [
              "array([False, False, False, False, False, False,  True,  True,  True,\n",
              "        True,  True])"
            ]
          },
          "metadata": {
            "tags": []
          },
          "execution_count": 82
        }
      ]
    },
    {
      "cell_type": "code",
      "metadata": {
        "colab": {
          "base_uri": "https://localhost:8080/"
        },
        "id": "v9_jdGGRAEbk",
        "outputId": "c839d36e-53b8-47bf-c130-2d299f135318"
      },
      "source": [
        "arr[bool_arr]"
      ],
      "execution_count": null,
      "outputs": [
        {
          "output_type": "execute_result",
          "data": {
            "text/plain": [
              "array([ 6,  7,  8,  9, 10])"
            ]
          },
          "metadata": {
            "tags": []
          },
          "execution_count": 83
        }
      ]
    },
    {
      "cell_type": "markdown",
      "metadata": {
        "id": "pBUHI1olAwhR"
      },
      "source": [
        "# Numpy Operations\n",
        "With this feature we can conduct simple mathematical operations on our numpy arrays"
      ]
    },
    {
      "cell_type": "code",
      "metadata": {
        "colab": {
          "base_uri": "https://localhost:8080/"
        },
        "id": "ksyI3c1uJwD3",
        "outputId": "a428f479-9e8d-4946-8b53-3c7cba61e6e3"
      },
      "source": [
        "\n",
        "arr = np.arange(0, 11)\n",
        "arr"
      ],
      "execution_count": null,
      "outputs": [
        {
          "output_type": "execute_result",
          "data": {
            "text/plain": [
              "array([ 0,  1,  2,  3,  4,  5,  6,  7,  8,  9, 10])"
            ]
          },
          "metadata": {
            "tags": []
          },
          "execution_count": 107
        }
      ]
    },
    {
      "cell_type": "code",
      "metadata": {
        "colab": {
          "base_uri": "https://localhost:8080/"
        },
        "id": "wRkCNKpZJ2je",
        "outputId": "269d2ed9-0fc7-44d6-b7d6-a40682c0c2ef"
      },
      "source": [
        "arr + 5"
      ],
      "execution_count": null,
      "outputs": [
        {
          "output_type": "execute_result",
          "data": {
            "text/plain": [
              "array([ 5,  6,  7,  8,  9, 10, 11, 12, 13, 14, 15])"
            ]
          },
          "metadata": {
            "tags": []
          },
          "execution_count": 108
        }
      ]
    },
    {
      "cell_type": "code",
      "metadata": {
        "colab": {
          "base_uri": "https://localhost:8080/"
        },
        "id": "Idb3Hr9jJ6oG",
        "outputId": "815a7213-34e7-4823-8063-1a10cabcceed"
      },
      "source": [
        "arr - 2"
      ],
      "execution_count": null,
      "outputs": [
        {
          "output_type": "execute_result",
          "data": {
            "text/plain": [
              "array([-2, -1,  0,  1,  2,  3,  4,  5,  6,  7,  8])"
            ]
          },
          "metadata": {
            "tags": []
          },
          "execution_count": 109
        }
      ]
    },
    {
      "cell_type": "code",
      "metadata": {
        "colab": {
          "base_uri": "https://localhost:8080/"
        },
        "id": "WuScp4jyKCh-",
        "outputId": "32d7aefc-4904-49ef-b4b3-aae25f20abe8"
      },
      "source": [
        "arr * 2"
      ],
      "execution_count": null,
      "outputs": [
        {
          "output_type": "execute_result",
          "data": {
            "text/plain": [
              "array([ 0,  2,  4,  6,  8, 10, 12, 14, 16, 18, 20])"
            ]
          },
          "metadata": {
            "tags": []
          },
          "execution_count": 110
        }
      ]
    },
    {
      "cell_type": "code",
      "metadata": {
        "colab": {
          "base_uri": "https://localhost:8080/"
        },
        "id": "862DetPbKHnH",
        "outputId": "2aa5a804-4acd-41c4-a7e8-c9f0c56e5048"
      },
      "source": [
        "arr / 2"
      ],
      "execution_count": null,
      "outputs": [
        {
          "output_type": "execute_result",
          "data": {
            "text/plain": [
              "array([0. , 0.5, 1. , 1.5, 2. , 2.5, 3. , 3.5, 4. , 4.5, 5. ])"
            ]
          },
          "metadata": {
            "tags": []
          },
          "execution_count": 111
        }
      ]
    },
    {
      "cell_type": "code",
      "metadata": {
        "colab": {
          "base_uri": "https://localhost:8080/"
        },
        "id": "sc0xLrNrKN-P",
        "outputId": "b2a7ac6c-d961-4878-c88e-4572d37c461d"
      },
      "source": [
        "np.sqrt(arr)"
      ],
      "execution_count": null,
      "outputs": [
        {
          "output_type": "execute_result",
          "data": {
            "text/plain": [
              "array([0.        , 1.        , 1.41421356, 1.73205081, 2.        ,\n",
              "       2.23606798, 2.44948974, 2.64575131, 2.82842712, 3.        ,\n",
              "       3.16227766])"
            ]
          },
          "metadata": {
            "tags": []
          },
          "execution_count": 112
        }
      ]
    },
    {
      "cell_type": "code",
      "metadata": {
        "colab": {
          "base_uri": "https://localhost:8080/"
        },
        "id": "Pcikj3JDK5Tm",
        "outputId": "150b803b-9343-452b-c894-be3f95bcd03d"
      },
      "source": [
        "np.sin(arr)"
      ],
      "execution_count": null,
      "outputs": [
        {
          "output_type": "execute_result",
          "data": {
            "text/plain": [
              "array([ 0.        ,  0.84147098,  0.90929743,  0.14112001, -0.7568025 ,\n",
              "       -0.95892427, -0.2794155 ,  0.6569866 ,  0.98935825,  0.41211849,\n",
              "       -0.54402111])"
            ]
          },
          "metadata": {
            "tags": []
          },
          "execution_count": 113
        }
      ]
    },
    {
      "cell_type": "code",
      "metadata": {
        "colab": {
          "base_uri": "https://localhost:8080/"
        },
        "id": "9gvEO6_4K8T3",
        "outputId": "5210a464-498a-4aa7-dbf2-ba5db8ab0ac7"
      },
      "source": [
        "np.mean(arr)"
      ],
      "execution_count": null,
      "outputs": [
        {
          "output_type": "execute_result",
          "data": {
            "text/plain": [
              "5.0"
            ]
          },
          "metadata": {
            "tags": []
          },
          "execution_count": 114
        }
      ]
    },
    {
      "cell_type": "code",
      "metadata": {
        "colab": {
          "base_uri": "https://localhost:8080/"
        },
        "id": "O6wgrC0yL0E_",
        "outputId": "5d52cd3c-c8c7-4fbb-e75f-eee56a6cf1f0"
      },
      "source": [
        "np.sum(arr)"
      ],
      "execution_count": null,
      "outputs": [
        {
          "output_type": "execute_result",
          "data": {
            "text/plain": [
              "55"
            ]
          },
          "metadata": {
            "tags": []
          },
          "execution_count": 115
        }
      ]
    },
    {
      "cell_type": "code",
      "metadata": {
        "colab": {
          "base_uri": "https://localhost:8080/"
        },
        "id": "YHfonslCMCXm",
        "outputId": "ba57dcff-2d2e-405c-be5a-f9667d8eab53"
      },
      "source": [
        "arr.max()"
      ],
      "execution_count": null,
      "outputs": [
        {
          "output_type": "execute_result",
          "data": {
            "text/plain": [
              "10"
            ]
          },
          "metadata": {
            "tags": []
          },
          "execution_count": 116
        }
      ]
    },
    {
      "cell_type": "code",
      "metadata": {
        "colab": {
          "base_uri": "https://localhost:8080/"
        },
        "id": "eAnu9rs0MI4_",
        "outputId": "544cbff9-68cf-46a6-e713-4769d10003cc"
      },
      "source": [
        "arr.var()"
      ],
      "execution_count": null,
      "outputs": [
        {
          "output_type": "execute_result",
          "data": {
            "text/plain": [
              "10.0"
            ]
          },
          "metadata": {
            "tags": []
          },
          "execution_count": 117
        }
      ]
    },
    {
      "cell_type": "code",
      "metadata": {
        "colab": {
          "base_uri": "https://localhost:8080/"
        },
        "id": "rv-3WfrOMKgn",
        "outputId": "4a61687b-818a-41d6-c098-f2e4311fb2dd"
      },
      "source": [
        "arr.std()"
      ],
      "execution_count": null,
      "outputs": [
        {
          "output_type": "execute_result",
          "data": {
            "text/plain": [
              "3.1622776601683795"
            ]
          },
          "metadata": {
            "tags": []
          },
          "execution_count": 118
        }
      ]
    },
    {
      "cell_type": "code",
      "metadata": {
        "colab": {
          "base_uri": "https://localhost:8080/"
        },
        "id": "qeYdqEFAML1_",
        "outputId": "c76c717a-0d0d-403e-b43a-895b4faefd40"
      },
      "source": [
        "arr2d = np.arange(0, 25).reshape(5, 5)\n",
        "arr2d"
      ],
      "execution_count": null,
      "outputs": [
        {
          "output_type": "execute_result",
          "data": {
            "text/plain": [
              "array([[ 0,  1,  2,  3,  4],\n",
              "       [ 5,  6,  7,  8,  9],\n",
              "       [10, 11, 12, 13, 14],\n",
              "       [15, 16, 17, 18, 19],\n",
              "       [20, 21, 22, 23, 24]])"
            ]
          },
          "metadata": {
            "tags": []
          },
          "execution_count": 119
        }
      ]
    },
    {
      "cell_type": "code",
      "metadata": {
        "colab": {
          "base_uri": "https://localhost:8080/"
        },
        "id": "s7_uT5DeMd4X",
        "outputId": "a5c7632d-4a7a-4b74-a7f9-1e8aa3ebbabb"
      },
      "source": [
        "arr2d.sum()"
      ],
      "execution_count": null,
      "outputs": [
        {
          "output_type": "execute_result",
          "data": {
            "text/plain": [
              "300"
            ]
          },
          "metadata": {
            "tags": []
          },
          "execution_count": 120
        }
      ]
    },
    {
      "cell_type": "code",
      "metadata": {
        "colab": {
          "base_uri": "https://localhost:8080/"
        },
        "id": "NRV7BxdqMhXd",
        "outputId": "ea821301-662b-4868-97c5-97a1c0a207ab"
      },
      "source": [
        "arr2d.sum(axis=0)"
      ],
      "execution_count": null,
      "outputs": [
        {
          "output_type": "execute_result",
          "data": {
            "text/plain": [
              "array([50, 55, 60, 65, 70])"
            ]
          },
          "metadata": {
            "tags": []
          },
          "execution_count": 121
        }
      ]
    },
    {
      "cell_type": "code",
      "metadata": {
        "colab": {
          "base_uri": "https://localhost:8080/"
        },
        "id": "9Edkh9lCMynO",
        "outputId": "a2b0aecd-f0fa-46a4-d225-8d39dfe0562a"
      },
      "source": [
        "arr2d.sum(axis=1)"
      ],
      "execution_count": null,
      "outputs": [
        {
          "output_type": "execute_result",
          "data": {
            "text/plain": [
              "array([ 10,  35,  60,  85, 110])"
            ]
          },
          "metadata": {
            "tags": []
          },
          "execution_count": 122
        }
      ]
    },
    {
      "cell_type": "code",
      "metadata": {
        "id": "VPq125rPM7fY"
      },
      "source": [
        ""
      ],
      "execution_count": null,
      "outputs": []
    }
  ]
}